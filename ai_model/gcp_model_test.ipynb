{
 "cells": [
  {
   "cell_type": "code",
   "execution_count": 1,
   "id": "179323df-64e6-438d-91c6-28fa4cee7d68",
   "metadata": {},
   "outputs": [],
   "source": [
    "import base64\n",
    "\n",
    "from google.cloud import aiplatform\n",
    "from google.cloud.aiplatform.gapic.schema import predict"
   ]
  },
  {
   "cell_type": "code",
   "execution_count": 2,
   "id": "2939379e-1910-4741-b0c5-4b99a457957e",
   "metadata": {},
   "outputs": [],
   "source": [
    "def predict_image_classification_sample(\n",
    "    project: str,\n",
    "    endpoint_id: str,\n",
    "    filename: str,\n",
    "    location: str = \"us-central1\",\n",
    "    api_endpoint: str = \"us-central1-aiplatform.googleapis.com\",\n",
    "):\n",
    "    # The AI Platform services require regional API endpoints.\n",
    "    client_options = {\"api_endpoint\": api_endpoint}\n",
    "    # Initialize client that will be used to create and send requests.\n",
    "    # This client only needs to be created once, and can be reused for multiple requests.\n",
    "    client = aiplatform.gapic.PredictionServiceClient(client_options=client_options)\n",
    "    with open(filename, \"rb\") as f:\n",
    "        file_content = f.read()\n",
    "\n",
    "    # The format of each instance should conform to the deployed model's prediction input schema.\n",
    "    encoded_content = base64.b64encode(file_content).decode(\"utf-8\")\n",
    "    instance = predict.instance.ImageClassificationPredictionInstance(\n",
    "        content=encoded_content,\n",
    "    ).to_value()\n",
    "    instances = [instance]\n",
    "    # See gs://google-cloud-aiplatform/schema/predict/params/image_classification_1.0.0.yaml for the format of the parameters.\n",
    "    parameters = predict.params.ImageClassificationPredictionParams(\n",
    "        confidence_threshold=0.5, max_predictions=5,\n",
    "    ).to_value()\n",
    "    endpoint = client.endpoint_path(\n",
    "        project=project, location=location, endpoint=endpoint_id\n",
    "    )\n",
    "    response = client.predict(\n",
    "        endpoint=endpoint, instances=instances, parameters=parameters\n",
    "    )\n",
    "    print(\"response\")\n",
    "    print(\" deployed_model_id:\", response.deployed_model_id)\n",
    "    # See gs://google-cloud-aiplatform/schema/predict/prediction/image_classification_1.0.0.yaml for the format of the predictions.\n",
    "    predictions = response.predictions\n",
    "    for prediction in predictions:\n",
    "        print(\" prediction:\", dict(prediction))\n",
    "        result = dict(prediction)\n",
    "    \n",
    "    return result"
   ]
  },
  {
   "cell_type": "code",
   "execution_count": 3,
   "id": "37c32968-21a6-4831-b133-492e90f4692e",
   "metadata": {},
   "outputs": [
    {
     "name": "stdout",
     "output_type": "stream",
     "text": [
      "response\n",
      " deployed_model_id: 6561746856102068224\n",
      " prediction: {'confidences': [0.830508471], 'displayNames': ['Gaultheria'], 'ids': ['5151411537491001344']}\n"
     ]
    },
    {
     "data": {
      "text/plain": [
       "{'confidences': [0.830508471],\n",
       " 'displayNames': ['Gaultheria'],\n",
       " 'ids': ['5151411537491001344']}"
      ]
     },
     "execution_count": 3,
     "metadata": {},
     "output_type": "execute_result"
    }
   ],
   "source": [
    "result = predict_image_classification_sample(\n",
    "    project=\"575452776926\",\n",
    "    endpoint_id=\"4686360450139422720\",\n",
    "    location=\"us-central1\",\n",
    "    filename=\"../data/test01.jpg\"\n",
    ")\n",
    "result"
   ]
  },
  {
   "cell_type": "code",
   "execution_count": 4,
   "id": "400d780d-8b27-4700-ac63-a08e9060964a",
   "metadata": {},
   "outputs": [
    {
     "name": "stdout",
     "output_type": "stream",
     "text": [
      "response\n",
      " deployed_model_id: 6561746856102068224\n",
      " prediction: {'displayNames': ['Dracaena_braunii'], 'confidences': [0.999676585], 'ids': ['2125344431618916352']}\n"
     ]
    },
    {
     "data": {
      "text/plain": [
       "{'displayNames': ['Dracaena_braunii'],\n",
       " 'confidences': [0.999676585],\n",
       " 'ids': ['2125344431618916352']}"
      ]
     },
     "execution_count": 4,
     "metadata": {},
     "output_type": "execute_result"
    }
   ],
   "source": [
    "result = predict_image_classification_sample(\n",
    "    project=\"575452776926\",\n",
    "    endpoint_id=\"4686360450139422720\",\n",
    "    location=\"us-central1\",\n",
    "    filename=\"../data/test02.jpeg\"\n",
    ")\n",
    "result"
   ]
  },
  {
   "cell_type": "code",
   "execution_count": 5,
   "id": "94315780-8216-49d4-ba9f-f17eb1f26451",
   "metadata": {},
   "outputs": [
    {
     "name": "stdout",
     "output_type": "stream",
     "text": [
      "response\n",
      " deployed_model_id: 6561746856102068224\n",
      " prediction: {'confidences': [0.999988198], 'displayNames': ['Clivia_miniata'], 'ids': ['4100102499476701184']}\n"
     ]
    },
    {
     "data": {
      "text/plain": [
       "{'confidences': [0.999988198],\n",
       " 'displayNames': ['Clivia_miniata'],\n",
       " 'ids': ['4100102499476701184']}"
      ]
     },
     "execution_count": 5,
     "metadata": {},
     "output_type": "execute_result"
    }
   ],
   "source": [
    "result = predict_image_classification_sample(\n",
    "    project=\"575452776926\",\n",
    "    endpoint_id=\"4686360450139422720\",\n",
    "    location=\"us-central1\",\n",
    "    filename=\"../data/test03.jpeg\"\n",
    ")\n",
    "result"
   ]
  },
  {
   "cell_type": "code",
   "execution_count": 6,
   "id": "c0a459d9-4206-4cbe-bc8b-0e7d84a8016d",
   "metadata": {},
   "outputs": [
    {
     "name": "stdout",
     "output_type": "stream",
     "text": [
      "response\n",
      " deployed_model_id: 6561746856102068224\n",
      " prediction: {'confidences': [0.993002236], 'displayNames': ['Senecio_rowleyanus'], 'ids': ['354374246899646464']}\n"
     ]
    },
    {
     "data": {
      "text/plain": [
       "{'confidences': [0.993002236],\n",
       " 'displayNames': ['Senecio_rowleyanus'],\n",
       " 'ids': ['354374246899646464']}"
      ]
     },
     "execution_count": 6,
     "metadata": {},
     "output_type": "execute_result"
    }
   ],
   "source": [
    "result = predict_image_classification_sample(\n",
    "    project=\"575452776926\",\n",
    "    endpoint_id=\"4686360450139422720\",\n",
    "    location=\"us-central1\",\n",
    "    filename=\"../data/test04.jpeg\"\n",
    ")\n",
    "result"
   ]
  },
  {
   "cell_type": "code",
   "execution_count": 7,
   "id": "b82e48d6-3ae9-44c6-a11f-0e6f3620b692",
   "metadata": {},
   "outputs": [
    {
     "name": "stdout",
     "output_type": "stream",
     "text": [
      "response\n",
      " deployed_model_id: 6561746856102068224\n",
      " prediction: {'displayNames': ['Pittosporum_tobira'], 'confidences': [0.999915242], 'ids': ['9050543652375363584']}\n"
     ]
    },
    {
     "data": {
      "text/plain": [
       "{'displayNames': ['Pittosporum_tobira'],\n",
       " 'confidences': [0.999915242],\n",
       " 'ids': ['9050543652375363584']}"
      ]
     },
     "execution_count": 7,
     "metadata": {},
     "output_type": "execute_result"
    }
   ],
   "source": [
    "result = predict_image_classification_sample(\n",
    "    project=\"575452776926\",\n",
    "    endpoint_id=\"4686360450139422720\",\n",
    "    location=\"us-central1\",\n",
    "    filename=\"../data/test05.jpeg\"\n",
    ")\n",
    "result"
   ]
  },
  {
   "cell_type": "code",
   "execution_count": 8,
   "id": "2c8fc90d-c34d-4b69-b11f-7f5af02b5501",
   "metadata": {},
   "outputs": [
    {
     "name": "stdout",
     "output_type": "stream",
     "text": [
      "response\n",
      " deployed_model_id: 6561746856102068224\n",
      " prediction: {'confidences': [0.754605889], 'displayNames': ['Ficus_elastica'], 'ids': ['7851460251587969024']}\n"
     ]
    },
    {
     "data": {
      "text/plain": [
       "{'confidences': [0.754605889],\n",
       " 'displayNames': ['Ficus_elastica'],\n",
       " 'ids': ['7851460251587969024']}"
      ]
     },
     "execution_count": 8,
     "metadata": {},
     "output_type": "execute_result"
    }
   ],
   "source": [
    "result = predict_image_classification_sample(\n",
    "    project=\"575452776926\",\n",
    "    endpoint_id=\"4686360450139422720\",\n",
    "    location=\"us-central1\",\n",
    "    filename=\"../data/test06.jpg\"\n",
    ")\n",
    "result"
   ]
  },
  {
   "cell_type": "code",
   "execution_count": 9,
   "id": "b40cb6b6-154c-40d8-8cd0-27a72ae4c2d6",
   "metadata": {},
   "outputs": [
    {
     "name": "stdout",
     "output_type": "stream",
     "text": [
      "response\n",
      " deployed_model_id: 6561746856102068224\n",
      " prediction: {'confidences': [0.761266947], 'displayNames': ['Begonia_rex'], 'ids': ['9116971746879078400']}\n"
     ]
    },
    {
     "data": {
      "text/plain": [
       "{'confidences': [0.761266947],\n",
       " 'displayNames': ['Begonia_rex'],\n",
       " 'ids': ['9116971746879078400']}"
      ]
     },
     "execution_count": 9,
     "metadata": {},
     "output_type": "execute_result"
    }
   ],
   "source": [
    "result = predict_image_classification_sample(\n",
    "    project=\"575452776926\",\n",
    "    endpoint_id=\"4686360450139422720\",\n",
    "    location=\"us-central1\",\n",
    "    filename=\"../data/test07.jpg\"\n",
    ")\n",
    "result"
   ]
  },
  {
   "cell_type": "code",
   "execution_count": 10,
   "id": "7c0912f8-78c8-4877-b4e0-6add531803d2",
   "metadata": {},
   "outputs": [
    {
     "name": "stdout",
     "output_type": "stream",
     "text": [
      "response\n",
      " deployed_model_id: 6561746856102068224\n",
      " prediction: {'confidences': [0.897593796], 'displayNames': ['Ficus_retusa'], 'ids': ['3021631126209822720']}\n"
     ]
    },
    {
     "data": {
      "text/plain": [
       "{'confidences': [0.897593796],\n",
       " 'displayNames': ['Ficus_retusa'],\n",
       " 'ids': ['3021631126209822720']}"
      ]
     },
     "execution_count": 10,
     "metadata": {},
     "output_type": "execute_result"
    }
   ],
   "source": [
    "result = predict_image_classification_sample(\n",
    "    project=\"575452776926\",\n",
    "    endpoint_id=\"4686360450139422720\",\n",
    "    location=\"us-central1\",\n",
    "    filename=\"../data/test08.jpeg\"\n",
    ")\n",
    "result"
   ]
  },
  {
   "cell_type": "code",
   "execution_count": null,
   "id": "ec759b8c-78f5-46a2-8307-d3c2e684b4a3",
   "metadata": {},
   "outputs": [],
   "source": []
  }
 ],
 "metadata": {
  "kernelspec": {
   "display_name": "Python 3 (ipykernel)",
   "language": "python",
   "name": "python3"
  },
  "language_info": {
   "codemirror_mode": {
    "name": "ipython",
    "version": 3
   },
   "file_extension": ".py",
   "mimetype": "text/x-python",
   "name": "python",
   "nbconvert_exporter": "python",
   "pygments_lexer": "ipython3",
   "version": "3.9.15"
  }
 },
 "nbformat": 4,
 "nbformat_minor": 5
}
